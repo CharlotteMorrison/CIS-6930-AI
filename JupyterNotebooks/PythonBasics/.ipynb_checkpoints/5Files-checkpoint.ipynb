{
 "cells": [
  {
   "cell_type": "markdown",
   "metadata": {},
   "source": [
    "# Reading and Writing Files"
   ]
  },
  {
   "cell_type": "code",
   "execution_count": 1,
   "metadata": {},
   "outputs": [
    {
     "name": "stdout",
     "output_type": "stream",
     "text": [
      "'State,Capital,Abbreviation,Population,Region,US House Seats\\n'\n",
      "'Mississippi,Jackson,MS,2991207,South,4\\n'\n",
      "'New Hampshire,Concord,NH,1323459,New England,2\\n'\n",
      "'Pennsylvania,Harrisburg,PA,12773801,Middle Atlantic,18\\n'\n",
      "'North Dakota,Bismarck,ND,723393,Midwest,1\\n'\n",
      "'Louisiana,Baton Rouge,LA,4625470,South,6\\n'\n",
      "'Maine,Augusta,ME,1328302,New England,2\\n'\n",
      "'Vermont,Montpelier,VT,626630,New England,1\\n'\n",
      "'Delaware,Dover,DE,925749,Middle Atlantic,1\\n'\n",
      "'Montana,Helena,MT,1015165,West,1\\n'\n",
      "'Ohio,Columbus,OH,11570808,Midwest,16\\n'\n",
      "'Iowa,Des Moines,IA,3090416,Midwest,4\\n'\n",
      "'Missouri,Jefferson City,MO,6044171,Midwest,8\\n'\n",
      "'Kansas,Topeka,KS,2893957,Midwest,4\\n'\n",
      "'South Dakota,Pierre,SD,844877,Midwest,1\\n'\n",
      "'Texas,Austin,TX,26448193,Southwest,36\\n'\n",
      "'Washington,Olympia,WA,6971406,West,10\\n'\n",
      "'New Jersey,Trenton,NJ,8899339,Middle Atlantic,12\\n'\n",
      "'Alabama,Montgomery,AL,4833722,South,7\\n'\n",
      "'South Carolina,Columbia,SC,4774839,South,7\\n'\n",
      "'New Mexico,Santa Fe,NM,2085287,Southwest,3\\n'\n",
      "'Indiana,Indianapolis,IN,6570902,Midwest,9\\n'\n",
      "'Arkansas,Little Rock,AR,2959373,South,4\\n'\n",
      "'Wyoming,Cheyenne,WY,582658,West,1\\n'\n",
      "'Colorado,Denver,CO,5268367,West,7\\n'\n",
      "'Tennessee,Nashville,TN,6495978,South,9\\n'\n",
      "'Oregon,Salem,OR,3930065,West,5\\n'\n",
      "'Michigan,Lansing,MI,9895622,Midwest,14\\n'\n",
      "'Idaho,Boise,ID,1612136,West,2\\n'\n",
      "'Nebraska,Lincoln,NE,1868516,Midwest,3\\n'\n",
      "'Oklahoma,Oklahoma City,OK,3850568,Southwest,5\\n'\n",
      "'Wisconsin,Madison,WI,5742713,Midwest,8\\n'\n",
      "'Rhode Island,Providence,RI,1051511,New England,2\\n'\n",
      "'New York,Albany,NY,19651127,Middle Atlantic,27\\n'\n",
      "'Nevada,Carson City,NV,2790136,West,4\\n'\n",
      "'Arizona,Phoenix,AZ,6626624,Southwest,9\\n'\n",
      "'California,Sacramento,CA,38332521,West,53\\n'\n",
      "'Georgia,Atlanta,GA,9992167,South,14\\n'\n",
      "'Florida,Tallahassee,FL,19552860,South,27\\n'\n",
      "'West Virginia,Charleston,WV,1854304,Middle Atlantic,3\\n'\n",
      "'Hawaii,Honolulu,HI,1404054,West,2\\n'\n",
      "'Kentucky,Frankfort,KY,4395295,South,6\\n'\n",
      "'Minnesota,St Paul,MN,5420380,Midwest,8\\n'\n",
      "'Massachusetts,Boston,MA,6692824,New England,9\\n'\n",
      "'Maryland,Annapolis,MD,5928814,Middle Atlantic,8\\n'\n",
      "'Connecticut,Hartford,CT,3596080,New England,5\\n'\n",
      "'Utah,Salt Lake City,UT,2900872,West,4\\n'\n",
      "'Illinois,Springfield,IL,12882135,Midwest,18\\n'\n",
      "'North Carolina,Raleigh,NC,9848060,South,13\\n'\n",
      "'Alaska,Juno,AK,735132,West,1\\n'\n",
      "'Virginia,Richmond,VA,8260405,Middle Atlantic,11\\n'\n"
     ]
    }
   ],
   "source": [
    "filename = './States1.csv'\n",
    "f = open(filename, 'r')\n",
    "content = f.readlines()  # get a list of all lines in file\n",
    "#print (f.read())  # read every byte in file\n",
    "\n",
    "for line in content:\n",
    "    print (repr(line))"
   ]
  },
  {
   "cell_type": "code",
   "execution_count": 6,
   "metadata": {},
   "outputs": [
    {
     "name": "stdout",
     "output_type": "stream",
     "text": [
      "{'Mississippi': 2991207, 'New Hampshire': 1323459, 'Pennsylvania': 12773801, 'North Dakota': 723393, 'Louisiana': 4625470, 'Maine': 1328302, 'Vermont': 626630, 'Delaware': 925749, 'Montana': 1015165, 'Ohio': 11570808, 'Iowa': 3090416, 'Missouri': 6044171, 'Kansas': 2893957, 'South Dakota': 844877, 'Texas': 26448193, 'Washington': 6971406, 'New Jersey': 8899339, 'Alabama': 4833722, 'South Carolina': 4774839, 'New Mexico': 2085287, 'Indiana': 6570902, 'Arkansas': 2959373, 'Wyoming': 582658, 'Colorado': 5268367, 'Tennessee': 6495978, 'Oregon': 3930065, 'Michigan': 9895622, 'Idaho': 1612136, 'Nebraska': 1868516, 'Oklahoma': 3850568, 'Wisconsin': 5742713, 'Rhode Island': 1051511, 'New York': 19651127, 'Nevada': 2790136, 'Arizona': 6626624, 'California': 38332521, 'Georgia': 9992167, 'Florida': 19552860, 'West Virginia': 1854304, 'Hawaii': 1404054, 'Kentucky': 4395295, 'Minnesota': 5420380, 'Massachusetts': 6692824, 'Maryland': 5928814, 'Connecticut': 3596080, 'Utah': 2900872, 'Illinois': 12882135, 'North Carolina': 9848060, 'Alaska': 735132, 'Virginia': 8260405}\n",
      "\n",
      "OrderedDict([('Alabama', 4833722), ('Alaska', 735132), ('Arizona', 6626624), ('Arkansas', 2959373), ('California', 38332521), ('Colorado', 5268367), ('Connecticut', 3596080), ('Delaware', 925749), ('Florida', 19552860), ('Georgia', 9992167), ('Hawaii', 1404054), ('Idaho', 1612136), ('Illinois', 12882135), ('Indiana', 6570902), ('Iowa', 3090416), ('Kansas', 2893957), ('Kentucky', 4395295), ('Louisiana', 4625470), ('Maine', 1328302), ('Maryland', 5928814), ('Massachusetts', 6692824), ('Michigan', 9895622), ('Minnesota', 5420380), ('Mississippi', 2991207), ('Missouri', 6044171), ('Montana', 1015165), ('Nebraska', 1868516), ('Nevada', 2790136), ('New Hampshire', 1323459), ('New Jersey', 8899339), ('New Mexico', 2085287), ('New York', 19651127), ('North Carolina', 9848060), ('North Dakota', 723393), ('Ohio', 11570808), ('Oklahoma', 3850568), ('Oregon', 3930065), ('Pennsylvania', 12773801), ('Rhode Island', 1051511), ('South Carolina', 4774839), ('South Dakota', 844877), ('Tennessee', 6495978), ('Texas', 26448193), ('Utah', 2900872), ('Vermont', 626630), ('Virginia', 8260405), ('Washington', 6971406), ('West Virginia', 1854304), ('Wisconsin', 5742713), ('Wyoming', 582658)])\n"
     ]
    }
   ],
   "source": [
    "lines = [line[:-1] for line in content]\n",
    "states = lines[1:]\n",
    "\n",
    "dict_states = {}\n",
    "for state in states:\n",
    "    tmp = state.split(',')\n",
    "    dict_states[tmp[0]] = int(tmp[3])\n",
    "\n",
    "f.close()\n",
    "\n",
    "print (dict_states)\n",
    "print()\n",
    "\n",
    "# Sort based on keys\n",
    "from collections import OrderedDict\n",
    "sorted_dict_states = OrderedDict(sorted(dict_states.items()))\n",
    "print(sorted_dict_states)"
   ]
  },
  {
   "cell_type": "code",
   "execution_count": 7,
   "metadata": {},
   "outputs": [
    {
     "name": "stdout",
     "output_type": "stream",
     "text": [
      "'Hello, class!\\n'\n"
     ]
    }
   ],
   "source": [
    "# Write to file\n",
    "f = open('tmp.txt', 'w')\n",
    "f.write('Hello, class!\\n')\n",
    "f.close()\n",
    "\n",
    "f = open('tmp.txt', 'r')\n",
    "print (repr(f.read()))\n",
    "f.close()"
   ]
  },
  {
   "cell_type": "code",
   "execution_count": 9,
   "metadata": {},
   "outputs": [
    {
     "name": "stdout",
     "output_type": "stream",
     "text": [
      "rm: cannot remove 'tmp.txt': No such file or directory\n",
      "1Types.ipynb\t\t  6PythonTipsPCI.ipynb\t__pycache__  result.txt\n",
      "2ControlAndLooping.ipynb  FirstTry.ipynb\tblah.txt     sum.csv\n",
      "3Functions.ipynb\t  Functions.py\t\tclasp.ipynb  try1.cnf\n",
      "4Modules.ipynb\t\t  Functions.pyc\t\tf1.cnf\n",
      "5Files.ipynb\t\t  States1.csv\t\tff.cnf\n"
     ]
    }
   ],
   "source": [
    "# Use command to delete\n",
    "!rm tmp.txt\n",
    "!ls"
   ]
  },
  {
   "cell_type": "code",
   "execution_count": 11,
   "metadata": {},
   "outputs": [
    {
     "data": {
      "image/png": "[encoded data removed]",
      "text/plain": [
       "<Figure size 432x288 with 1 Axes>"
      ]
     },
     "metadata": {
      "needs_background": "light"
     },
     "output_type": "display_data"
    }
   ],
   "source": [
    "import numpy as np\n",
    "import matplotlib.pyplot as plt\n",
    "\n",
    "data = np.genfromtxt('sum.csv', delimiter=',', skip_header=1,\n",
    "                     skip_footer=0, names=['s', 'r', 't', 'x', 'y', 'z'])\n",
    "fig = plt.figure()\n",
    "\n",
    "ax1 = fig.add_subplot(111)\n",
    "\n",
    "\n",
    "ax1.set_title(\"Some Results\")    \n",
    "ax1.set_xlabel('X')\n",
    "ax1.set_ylabel('Y')\n",
    "\n",
    "ax1.plot(data['r'], data['x'], color='r', label='the data')\n",
    "ax1.axis([0, 100, 0.8, 1])\n",
    "ax1.legend(bbox_to_anchor=(1, 0.15))\n",
    "\n",
    "plt.show()"
   ]
  }
 ],
 "metadata": {
  "kernelspec": {
   "display_name": "Python 3",
   "language": "python",
   "name": "python3"
  },
  "language_info": {
   "codemirror_mode": {
    "name": "ipython",
    "version": 3
   },
   "file_extension": ".py",
   "mimetype": "text/x-python",
   "name": "python",
   "nbconvert_exporter": "python",
   "pygments_lexer": "ipython3",
   "version": "3.7.3"
  }
 },
 "nbformat": 4,
 "nbformat_minor": 2
}
