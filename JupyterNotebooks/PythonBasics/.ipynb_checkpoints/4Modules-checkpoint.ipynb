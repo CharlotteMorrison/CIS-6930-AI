{
 "cells": [
  {
   "cell_type": "markdown",
   "metadata": {},
   "source": [
    "# Modules\n",
    "A module is a python file that is a collection of definitions.  These definitions can be *imported* into other modules.  The name of the module is the name of the Python file without the .py.  In jupyter notebook, you can save your note as a Python file: **File**->**Download as**->**Python (.py)**."
   ]
  },
  {
   "cell_type": "code",
   "execution_count": 2,
   "metadata": {},
   "outputs": [
    {
     "name": "stdout",
     "output_type": "stream",
     "text": [
      "1 1 2 3 5 8 13 21 34 55 89 Hello hello 100\n"
     ]
    }
   ],
   "source": [
    "import Functions\n",
    "Functions.Fib(100)\n",
    "Functions.myPrint('hello')"
   ]
  },
  {
   "cell_type": "code",
   "execution_count": 3,
   "metadata": {},
   "outputs": [
    {
     "name": "stdout",
     "output_type": "stream",
     "text": [
      "1 1 2 3 5 8 13 21 34 55 89 144 233 377 610 987 "
     ]
    }
   ],
   "source": [
    "from Functions import Fib\n",
    "Fib(1000)"
   ]
  },
  {
   "cell_type": "code",
   "execution_count": 4,
   "metadata": {},
   "outputs": [
    {
     "name": "stdout",
     "output_type": "stream",
     "text": [
      "Hello 9 100\n",
      "HEYa\n",
      "Yes or no, please!\n",
      "HEYy\n"
     ]
    },
    {
     "data": {
      "text/plain": [
       "True"
      ]
     },
     "execution_count": 4,
     "metadata": {},
     "output_type": "execute_result"
    }
   ],
   "source": [
    "from Functions import *\n",
    "myPrint(9)\n",
    "ask_ok(\"HEY\")"
   ]
  },
  {
   "cell_type": "markdown",
   "metadata": {},
   "source": [
    "# Standard Modules\n",
    "Standard modules are modules provided by Python that one can simply import and use.  There are many standard modules coming with Python that could be very helpful.  For a full list of modules built in Python 3.6, go to https://docs.python.org/3.6/py-modindex.html."
   ]
  },
  {
   "cell_type": "code",
   "execution_count": 1,
   "metadata": {},
   "outputs": [
    {
     "name": "stdout",
     "output_type": "stream",
     "text": [
      "/Users/xudong/Dropbox/UNF/2017Fall/CIS6930/JupyterNotes\n",
      "darwin\n",
      "Xudongs-MacBook-Pro.local\n"
     ]
    }
   ],
   "source": [
    "import os\n",
    "import sys\n",
    "import socket\n",
    "\n",
    "print (os.getcwd())\n",
    "\n",
    "print (sys.platform)\n",
    "\n",
    "print (socket.gethostname())"
   ]
  }
 ],
 "metadata": {
  "kernelspec": {
   "display_name": "Python 3",
   "language": "python",
   "name": "python3"
  },
  "language_info": {
   "codemirror_mode": {
    "name": "ipython",
    "version": 3
   },
   "file_extension": ".py",
   "mimetype": "text/x-python",
   "name": "python",
   "nbconvert_exporter": "python",
   "pygments_lexer": "ipython3",
   "version": "3.7.3"
  }
 },
 "nbformat": 4,
 "nbformat_minor": 2
}
