{
 "cells": [
  {
   "cell_type": "markdown",
   "metadata": {},
   "source": [
    "# Control Statement"
   ]
  },
  {
   "cell_type": "code",
   "execution_count": 3,
   "metadata": {},
   "outputs": [
    {
     "name": "stdout",
     "output_type": "stream",
     "text": [
      "Please enter an integer: -1\n",
      "Negative\n"
     ]
    }
   ],
   "source": [
    "x = int(raw_input(\"Please enter an integer: \"))\n",
    "if x < 0:\n",
    "    print ('Negative')\n",
    "elif x == 0:\n",
    "    print ('Zero')\n",
    "else:\n",
    "    print ('Positive')"
   ]
  },
  {
   "cell_type": "markdown",
   "metadata": {},
   "source": [
    "# Looping Techniques"
   ]
  },
  {
   "cell_type": "code",
   "execution_count": 1,
   "metadata": {},
   "outputs": [
    {
     "name": "stdout",
     "output_type": "stream",
     "text": [
      "['spring', 'summer', 'fall', 'winter']\n",
      "\n",
      "springsummerfallwinter\n",
      "\n",
      "0 spring\n",
      "1 summer\n",
      "2 fall\n",
      "3 winter\n",
      "\n",
      "winter\n",
      "fall\n",
      "summer\n",
      "spring\n",
      "\n",
      "['spring', 'summer', 'fall', 'winter']\n",
      "\n",
      "['winter', 'fall', 'summer', 'spring']\n",
      "\n",
      "fall\n",
      "spring\n",
      "summer\n",
      "winter\n",
      "\n",
      "['winter', 'fall', 'summer', 'spring']\n",
      "\n",
      "{'winter': 3, 'fall': 4, 'summer': 4, 'spring': 3}\n",
      "Key \"winter\" has value \"3\"\n",
      "Key \"fall\" has value \"4\"\n",
      "Key \"summer\" has value \"4\"\n",
      "Key \"spring\" has value \"3\"\n"
     ]
    }
   ],
   "source": [
    "seasons = ['spring', 'summer', 'fall', 'winter']\n",
    "print (seasons)\n",
    "print()\n",
    "\n",
    "for season in seasons:\n",
    "    print (season, end=\"\")\n",
    "print()\n",
    "print()\n",
    "\n",
    "# Use the enumerate function when looping through a sequence (e.g., a string, list, and tuple)\n",
    "for i,v in enumerate(seasons):\n",
    "    print (i, v)\n",
    "print()\n",
    "    \n",
    "# Loop reversely\n",
    "for season in reversed(seasons): # there is reverse() function that actually reverses seasons\n",
    "    print (season)\n",
    "print()\n",
    "\n",
    "print (seasons)\n",
    "print()\n",
    "\n",
    "seasons.reverse()\n",
    "print (seasons)\n",
    "print()\n",
    "    \n",
    "# Sort and loop\n",
    "for season in sorted(seasons): # there is sort() function that actually sorts seasons\n",
    "    print (season)\n",
    "print()\n",
    "\n",
    "print (seasons)\n",
    "print()\n",
    "\n",
    "# Give radom ratings on the seasons in a dictionary\n",
    "import random\n",
    "ratings = {}\n",
    "for season in seasons:\n",
    "    ratings[season] = random.randrange(1,6)\n",
    "print (ratings)\n",
    "\n",
    "# Use items function to manually print a dictionary\n",
    "for k,v in ratings.items(): # method items() returns a list of tuple pairs\n",
    "    print ('Key \\\"%s\\\" has value \\\"%d\\\"' % (k, v))"
   ]
  }
 ],
 "metadata": {
  "kernelspec": {
   "display_name": "Python 3",
   "language": "python",
   "name": "python3"
  },
  "language_info": {
   "codemirror_mode": {
    "name": "ipython",
    "version": 3
   },
   "file_extension": ".py",
   "mimetype": "text/x-python",
   "name": "python",
   "nbconvert_exporter": "python",
   "pygments_lexer": "ipython3",
   "version": "3.7.3"
  }
 },
 "nbformat": 4,
 "nbformat_minor": 2
}
