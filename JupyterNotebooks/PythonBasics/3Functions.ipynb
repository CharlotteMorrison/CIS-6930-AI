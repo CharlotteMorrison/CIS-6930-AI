{
 "cells": [
  {
   "cell_type": "markdown",
   "metadata": {},
   "source": [
    "# Functions\n",
    "Syntax:\n",
    "```python\n",
    "def func(parameter1, parameter2=default_value):\n",
    "    \"\"\"\n",
    "    Doc String\n",
    "    \"\"\"\n",
    "    <code block>\n",
    "    return value\n",
    "```"
   ]
  },
  {
   "cell_type": "code",
   "execution_count": 1,
   "metadata": {},
   "outputs": [
    {
     "name": "stdout",
     "output_type": "stream",
     "text": [
      "1 1 2 3 5 8 13 21 34 55 89 144 233 377 610 987 \n",
      "1 1 2 3 5 8 13 21 34 55 89 144 233 377 610 987 1597 2584 4181 6765 \n",
      "1 1 2 3 5 8 "
     ]
    }
   ],
   "source": [
    "def Fib (n=1000):\n",
    "    \"\"\" Compute the sequence of Fibonacci numbers up to n \"\"\"\n",
    "    a, b = 1, 1\n",
    "    while (a < n):\n",
    "        print (a, end=\" \")\n",
    "        a, b = b, a+b\n",
    "\n",
    "if __name__ == \"__main__\":\n",
    "    Fib()\n",
    "    print ()\n",
    "    Fib(10000)\n",
    "    print ()\n",
    "    Fib(n=10)"
   ]
  },
  {
   "cell_type": "markdown",
   "metadata": {},
   "source": [
    "# Default Argument Values\n",
    "The most useful form is to specify a default value for one or more arguments. This creates a function that can be called with fewer arguments than it is defined to allow."
   ]
  },
  {
   "cell_type": "code",
   "execution_count": 3,
   "metadata": {},
   "outputs": [
    {
     "name": "stdout",
     "output_type": "stream",
     "text": [
      "Do you want to go?hey\n",
      "Yes or no, please!\n",
      "Do you want to go?asdf\n",
      "Yes or no, please!\n",
      "Do you want to go?adsf\n",
      "Yes or no, please!\n",
      "Do you want to go?sdf\n",
      "Yes or no, please!\n",
      "Do you want to go?yes\n",
      "True\n"
     ]
    }
   ],
   "source": [
    "def ask_ok(prompt, retries=4, complaint='Yes or no, please!'):\n",
    "    while True:\n",
    "        ok = input(prompt)\n",
    "        if ok in ('y', 'ye', 'yes'):\n",
    "            return True\n",
    "        if ok in ('n', 'no', 'nop', 'nope'):\n",
    "            return False\n",
    "        retries = retries - 1\n",
    "        if retries < 0:\n",
    "            raise IOError('refusenik user')\n",
    "        print (complaint)\n",
    "        \n",
    "if __name__ == \"__main__\":\n",
    "    print (ask_ok(\"Do you want to go?\"))"
   ]
  },
  {
   "cell_type": "markdown",
   "metadata": {},
   "source": [
    "# Keyword Arguments\n",
    "Functions can also be called using keyword arguments of the form *kwarg=value*.\n",
    "In a function definition and a function call, keyword arguments **must** follow positional arguments."
   ]
  },
  {
   "cell_type": "code",
   "execution_count": 4,
   "metadata": {},
   "outputs": [
    {
     "name": "stdout",
     "output_type": "stream",
     "text": [
      "Hello 300 100\n"
     ]
    }
   ],
   "source": [
    "def myPrint(b, a='Hello', c=100):\n",
    "    print (a, end=\" \")\n",
    "    print (b, end=\" \")\n",
    "    print (c)\n",
    "    \n",
    "if __name__ == \"__main__\":\n",
    "    myPrint(b=300)\n",
    "    #myPrint(9, b='World')\n",
    "    #myPrint(88, c='world', b='hello')\n",
    "    #myPrint(b='What', 10000)"
   ]
  },
  {
   "cell_type": "markdown",
   "metadata": {},
   "source": [
    "# Pass Function Names to Other Functions"
   ]
  },
  {
   "cell_type": "code",
   "execution_count": 5,
   "metadata": {},
   "outputs": [
    {
     "name": "stdout",
     "output_type": "stream",
     "text": [
      "Hi everyone!\n",
      "I saved 8 dollars today.\n",
      "Hi everyone!\n",
      "I spent 8 dollars today.\n"
     ]
    }
   ],
   "source": [
    "def f1(a=100):\n",
    "    print (\"I saved %d dollars today.\" % a)\n",
    "    \n",
    "def f2(a=100):\n",
    "    print (\"I spent %d dollars today.\" % a)\n",
    "    \n",
    "def F(greetings='Hi everyone!', f=f1):\n",
    "    print (greetings)\n",
    "    f(8)\n",
    "    \n",
    "if __name__ == \"__main__\":\n",
    "    F()\n",
    "    F(f=f2)"
   ]
  },
  {
   "cell_type": "markdown",
   "metadata": {},
   "source": [
    "# Built in Functions"
   ]
  },
  {
   "cell_type": "code",
   "execution_count": 6,
   "metadata": {},
   "outputs": [
    {
     "name": "stdout",
     "output_type": "stream",
     "text": [
      "3\n",
      "42.5\n"
     ]
    }
   ],
   "source": [
    "if __name__ == \"__main__\":\n",
    "    ratings = {'chocolate':2.5, 'strawberry':4, 'vanilla':4.5}\n",
    "    \n",
    "    print (len(ratings))\n",
    "    print (sum([pow(v,2) for (k,v) in ratings.items()]))"
   ]
  }
 ],
 "metadata": {
  "kernelspec": {
   "display_name": "Python 3",
   "language": "python",
   "name": "python3"
  },
  "language_info": {
   "codemirror_mode": {
    "name": "ipython",
    "version": 3
   },
   "file_extension": ".py",
   "mimetype": "text/x-python",
   "name": "python",
   "nbconvert_exporter": "python",
   "pygments_lexer": "ipython3",
   "version": "3.7.3"
  }
 },
 "nbformat": 4,
 "nbformat_minor": 2
}
