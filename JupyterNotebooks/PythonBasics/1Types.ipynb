{
 "cells": [
  {
   "cell_type": "markdown",
   "metadata": {},
   "source": [
    "# Literals (Or Constants)\n",
    "In Python, there are the following groups of basic values (constants, literals) that could be assigned to variables.\n",
    "* Integer literals: -5, 0, 543254\n",
    "* Floating-point literals: -65.456, 4.3\n",
    "* Complex literals: 1+2j, -5-19j\n",
    "* String literals: '', 'hello', \"world\"\n",
    "* List literals: [], [1,2,3], [1,'a',3.0]\n",
    "* Tuple listerals: (), (5,), (5, 1.0, 'b')\n",
    "* Set literals: {1,2,3}, {1,'ball'}\n",
    "* Dictionary literals: {'Adam':3, 'Lily':10, 'Nancy':30}\n",
    "* Bool literals: True, False\n",
    "* None-type literal: None (meaning is like null in Java or NULL in C/C++, and it's the sole value of NoneType)"
   ]
  },
  {
   "cell_type": "code",
   "execution_count": 2,
   "metadata": {},
   "outputs": [
    {
     "name": "stdout",
     "output_type": "stream",
     "text": [
      "<class 'int'>\n",
      "True\n",
      "False\n",
      "<class 'float'>\n",
      "<class 'str'>\n",
      "<class 'list'>\n",
      "True\n",
      "<class 'bool'>\n",
      "yeah\n",
      "None\n",
      "<class 'NoneType'>\n",
      "4349335656\n",
      "4349335656\n"
     ]
    }
   ],
   "source": [
    "i = 10\n",
    "print (type(i))\n",
    "print (isinstance(i,int))\n",
    "print (isinstance(i,float))\n",
    "\n",
    "f = -1.234\n",
    "print (type(f))\n",
    "\n",
    "s = 'hello, world'\n",
    "print (type(s))\n",
    "\n",
    "l = [1,2,3,4]\n",
    "print (type(l))\n",
    "\n",
    "tr = True\n",
    "fl = False\n",
    "print (tr)\n",
    "print (type(tr))\n",
    "if (tr - fl):\n",
    "    print ('yeah')\n",
    "else:\n",
    "    print ('oops')\n",
    "    \n",
    "n = None\n",
    "print (n)\n",
    "print (type(n))\n",
    "print (id(n))\n",
    "m = None\n",
    "print (id(m))"
   ]
  },
  {
   "cell_type": "markdown",
   "metadata": {},
   "source": [
    "# Numbers"
   ]
  },
  {
   "cell_type": "code",
   "execution_count": 3,
   "metadata": {},
   "outputs": [
    {
     "name": "stdout",
     "output_type": "stream",
     "text": [
      "hey man\n"
     ]
    }
   ],
   "source": [
    "s = 'hey man'\n",
    "print s    # the print method provides a more readable output"
   ]
  },
  {
   "cell_type": "code",
   "execution_count": 3,
   "metadata": {},
   "outputs": [
    {
     "name": "stdout",
     "output_type": "stream",
     "text": [
      "3.3333333333333335\n",
      "2\n",
      "1024\n",
      "14965.02\n"
     ]
    }
   ],
   "source": [
    "# Use Python as a calculator\n",
    "print (10 / 3)\n",
    "print (17 % 5)\n",
    "print (2 ** 10)\n",
    "\n",
    "# Assign numbers to variables\n",
    "num_of_computers = 14\n",
    "computer_price = 999\n",
    "tax_rate = .07\n",
    "total = num_of_computers * computer_price * (1 + tax_rate)\n",
    "print (total)"
   ]
  },
  {
   "cell_type": "markdown",
   "metadata": {},
   "source": [
    "# Strings\n",
    "Can use single ('...'), double (\"...\") or even triple ('''...''' or \"\"\"...\"\"\") quotes to enclose a string!"
   ]
  },
  {
   "cell_type": "code",
   "execution_count": 4,
   "metadata": {},
   "outputs": [
    {
     "name": "stdout",
     "output_type": "stream",
     "text": [
      "spam folder\n",
      "can't\n",
      "don't\n",
      "\"Yes,\" she replied.\n",
      "\"Yes,\" she replied.\n",
      "C:\\some\\name\n",
      "C:\\some\\nameUsage: \"ls [OPTIONS]\"\n",
      "     -h                        Display this usage message\n",
      "     -l                        List in long format\n",
      "\n",
      "Usage: \"ls [OPTIONS]\"\n",
      "     -h                        Display this usage message\n",
      "     -l                        List in long format\n",
      "\n",
      "3\n",
      "Hello, world!\n",
      "H\n",
      "l\n",
      " \n",
      "ell\n",
      "worl\n",
      "rld!\n",
      "13\n",
      "HeLLo, \n"
     ]
    }
   ],
   "source": [
    "print ('spam folder')\n",
    "print ('can\\'t')                # have to escape ' inside single quotes\n",
    "print (\"don't\")\n",
    "print (\"\\\"Yes,\\\" she replied.\") # have to escape \" inside double quotes\n",
    "print ('\"Yes,\" she replied.')\n",
    "\n",
    "print (r'C:\\some\\name')  # note the r before the quote indicating it's a raw string\n",
    "\n",
    "tmp = r'C:\\some\\name'\n",
    "usage = \"\"\"\\\n",
    "Usage: \"ls [OPTIONS]\"\n",
    "     -h                        Display this usage message\n",
    "     -l                        List in long format\n",
    "\"\"\"\n",
    "print (tmp + usage)\n",
    "# Use triple quotes to make strings spanning multiple lines (Note the \\ to prevent the newline character)\n",
    "print (\"\"\"\\\n",
    "Usage: \"ls [OPTIONS]\"\n",
    "     -h                        Display this usage message\n",
    "     -l                        List in long format\n",
    "\"\"\")\n",
    "\n",
    "# Generally, no difference between triple-single quotes and triple-double quotes\n",
    "# But by the convention PEP-8, triple-double quotes are used for docstrings.\n",
    "# BTW, A docstring is a string literal that occurs as the first statement in a module, \n",
    "# function, class, or method definition. E.g.:\n",
    "def add (a1, a2):\n",
    "    \"\"\"\n",
    "    This a javadoc style.\n",
    "    \n",
    "    @param a1: integer\n",
    "    @param a2: integer\n",
    "    @return: return sum of the two parameters\n",
    "    \"\"\"\n",
    "    return a1+a2\n",
    "\n",
    "print (add(1,2))\n",
    "\n",
    "# Concatenate two strings\n",
    "s1 = 'Hello, '\n",
    "s2 = 'world!'\n",
    "print (s1+s2)\n",
    "\n",
    "# Strings can be indexed (Yes, like arrays)\n",
    "print (s1[0])\n",
    "print (s1[3])\n",
    "print (s1[-1])  # last character for -1\n",
    "\n",
    "# Slicing\n",
    "print (s1[1:4])\n",
    "print (s2[:4])\n",
    "print (s2[2:])\n",
    "\n",
    "# String objects cannot be changed as they are immutable.\n",
    "# Immutable objects are numbers, strings and tuples.\n",
    "#s1[0] = 'A'\n",
    "\n",
    "# String methods\n",
    "print (len(s1)+len(s2))\n",
    "print (s1.replace('ll', 'LL'))"
   ]
  },
  {
   "cell_type": "markdown",
   "metadata": {},
   "source": [
    "# Lists\n",
    "A compound type.  A list can be written as a list of comma-separated values (items) between square brackets. Lists might contain items of different types, but usually the items all have the same type."
   ]
  },
  {
   "cell_type": "code",
   "execution_count": 6,
   "metadata": {},
   "outputs": [
    {
     "name": "stdout",
     "output_type": "stream",
     "text": [
      "[1, 4, 9, 16, 25]\n",
      "1 16\n",
      "[9, 16, 25]\n",
      "[1, 4, 9, 16, 25, 35, 49]\n",
      "[1, 4, 9, 16, 25, 36, 49]\n",
      "[1, 4, 9, 16, 25, 36, 49, 64]\n",
      "Length of squares: 8\n",
      "[4, 9, 16, 25, 36, 49, 64]\n"
     ]
    }
   ],
   "source": [
    "squares = [1, 4, 9, 16, 25]\n",
    "print (squares)\n",
    "print (squares[0], squares[-2])\n",
    "print (squares[2:])\n",
    "\n",
    "# Concatenate\n",
    "squares = squares + [35, 49]\n",
    "print (squares)\n",
    "\n",
    "squares[5] = 36  # this is fine because lists are mutable\n",
    "print (squares)\n",
    "\n",
    "squares.append(64)\n",
    "print (squares)\n",
    "print ('Length of squares: %d' % len(squares))\n",
    "del squares[0]\n",
    "print (squares)"
   ]
  },
  {
   "cell_type": "markdown",
   "metadata": {},
   "source": [
    "# Tuples\n",
    "Other than lists, Python provides another sequence type called **tuples**.\n",
    "A tuple consists of a number of values separated by commas with or without parentheses enclosing the values.\n",
    "(Though, a good practice is to always have parentheses.)"
   ]
  },
  {
   "cell_type": "code",
   "execution_count": 7,
   "metadata": {},
   "outputs": [
    {
     "name": "stdout",
     "output_type": "stream",
     "text": [
      "hello!\n",
      "(12345, 54321, 'hello!')\n",
      "(('a', 'b'), (12345, 54321, 'hello!'))\n",
      "54321\n",
      "([1, 2], [3, 44])\n",
      "0 1\n",
      "()\n",
      "('hi',)\n",
      "12345 54321 hello!\n",
      "12345 54321\n"
     ]
    }
   ],
   "source": [
    "t = (12345, 54321, 'hello!')\n",
    "print (t[2])\n",
    "print (t)\n",
    "\n",
    "# Nested tuples\n",
    "T = (('a','b'), t)\n",
    "print (T)\n",
    "print (T[1][1])\n",
    "\n",
    "# Tupels are immutable\n",
    "# t[1] = 11111  # FAIL\n",
    "\n",
    "# But when a tuple contains mutable items, these mutable items can be changed\n",
    "s = ([1,2], [3,4])\n",
    "s[1][1] = 44\n",
    "print (s)\n",
    "\n",
    "e = ()              # empty tuple\n",
    "singleton = ('hi',) # singleton tuple where comma is necessary; o\\w, treated as a string 'hi'\n",
    "print (len(e), len(singleton))\n",
    "print (e)\n",
    "print (singleton)\n",
    "\n",
    "# tuple unpacking\n",
    "(o, p, q) = t\n",
    "print (o, p, q)\n",
    "(A,B) = t[0:2]\n",
    "print (A,B)"
   ]
  },
  {
   "cell_type": "markdown",
   "metadata": {},
   "source": [
    "# Sets\n",
    "A set is an unordered collection with no duplicate elements. Basic uses include membership testing and eliminating duplicate entries. Set objects also support mathematical operations like union, intersection, difference, and symmetric difference.\n",
    "\n",
    "Curly braces or the *set()* function can be used to create sets. Note: to create an empty set you have to use *set()*, **not {}**; the latter creates an empty dictionary, a data structure that we discuss in the next section."
   ]
  },
  {
   "cell_type": "code",
   "execution_count": 8,
   "metadata": {},
   "outputs": [
    {
     "name": "stdout",
     "output_type": "stream",
     "text": [
      "{1, 'a', 'c', 'hi'}\n",
      "{'apple', 'pear', 'banana', 'orange'}\n",
      "True\n",
      "False\n",
      "{'c', 'r', 'b', 'a', 'd'}\n",
      "{'c', 'a', 'z', 'l', 'm'}\n",
      "{'d', 'b', 'r'}\n",
      "{'c', 'b', 'r', 'a', 'd', 'z', 'l', 'm'}\n",
      "{'a', 'c'}\n",
      "{'d', 'z', 'b', 'l', 'm', 'r'}\n",
      "{'r', 'b', 'd', 'z', 'l', 'm'}\n"
     ]
    }
   ],
   "source": [
    "s = {'a', 1, 'c', 'hi', 'c'}\n",
    "print (s)\n",
    "\n",
    "# Create empty sets\n",
    "S = set()\n",
    "\n",
    "# Sets are immutable\n",
    "#s[0] = 'A'\n",
    "\n",
    "basket = ['apple', 'orange', 'apple', 'pear', 'orange', 'banana']\n",
    "fruit = set(basket)\n",
    "print (fruit)\n",
    "\n",
    "# Membership testing\n",
    "print ('apple' in fruit)\n",
    "print ('watermelon' in fruit)\n",
    "\n",
    "a = set('abracadabra')\n",
    "b = set('alacazam')\n",
    "print (a)                                  # unique letters in a\n",
    "print (b)\n",
    "print (a - b)                              # letters in a but not in b\n",
    "print (a | b)                              # letters in either a or b\n",
    "print (a & b)                              # letters in both a and b\n",
    "print (a ^ b)                              # letters in a or b but not both\n",
    "print ((a | b) - (a & b))"
   ]
  },
  {
   "cell_type": "markdown",
   "metadata": {},
   "source": [
    "# Dictionaries\n",
    "Dictionaries are sometimes found in other languages as \"hash tables\". Unlike sequences, which are indexed by a range of numbers, dictionaries are indexed by **keys**, which can be any **immutable** type; strings and numbers can always be keys. Tuples can be used as keys if they contain **only** strings, numbers, or tuples; if a tuple contains any mutable object either directly or indirectly, it cannot be used as a key. You can’t use lists as keys, since lists can be modified in place using index assignments, slice assignments, or methods like append() and extend().\n",
    "\n",
    "It is best to think of a dictionary as an unordered set of *key: value* pairs, with the requirement that the keys are unique (within one dictionary). A pair of braces creates an *empty* dictionary: {}. Placing a comma-separated list of key:value pairs within the braces adds initial key:value pairs to the dictionary; this is also the way dictionaries are written on output.\n",
    "\n",
    "The main operations on a dictionary are storing a value with some key and extracting the value given the key. It is also possible to delete a key:value pair with *del*. If you store using a key that is already in use, the old value associated with that key is forgotten. It is an error to extract a value using a non-existent key.\n",
    "\n",
    "The *keys()* method of a dictionary object returns a list of all the keys used in the dictionary, in arbitrary order (if you want it sorted, just apply the *sorted()* function to it). To check whether a single key is in the dictionary, use the in keyword."
   ]
  },
  {
   "cell_type": "code",
   "execution_count": 9,
   "metadata": {},
   "outputs": [
    {
     "name": "stdout",
     "output_type": "stream",
     "text": [
      "{'jack': 1111, 'sape': 4139, 'guido': 4127}\n",
      "1111\n",
      "Key \"jack\" has value \"1111\".\n",
      "Key \"sape\" has value \"4139\".\n",
      "Key \"guido\" has value \"4127\".\n",
      "{'jack': 1111, 'guido': 4127, 'irv': 4127}\n",
      "dict_keys(['jack', 'guido', 'irv'])\n",
      "True\n",
      "Key \"jack\" has value \"1111\".\n",
      "Key \"guido\" has value \"4127\".\n",
      "Key \"irv\" has value \"4127\".\n",
      "{'sape': 4139, 'guido': 4127, 'jack': 4098}\n",
      "{'Alice': {'chocolate': 2.5, 'strawberry': 4, 'vanilla': 4.5}, 'Bob': {'chocolate': 5.0, 'strawberry': 3.5, 'vanilla': 1.5}, 'Cal': {'chocolate': 4.0, 'strawberry': 4.5, 'vanilla': 4.0}}\n",
      "{'chocolate': 4.0, 'strawberry': 4.5, 'vanilla': 4.0}\n",
      "4.5\n",
      "{'chocolate': {'Alice': 2.5, 'Bob': 5.0, 'Cal': 4.0}, 'strawberry': {'Alice': 4, 'Bob': 3.5, 'Cal': 4.5}, 'vanilla': {'Alice': 4.5, 'Bob': 1.5, 'Cal': 4.0}}\n"
     ]
    }
   ],
   "source": [
    "tel = {'jack': 4098, 'sape': 4139}\n",
    "tel['jack'] = 1111\n",
    "tel['guido'] = 4127\n",
    "print (tel)\n",
    "print (tel['jack'])\n",
    "\n",
    "for k in tel:\n",
    "    print ('Key \"%s\" has value \"%d\".' % (k,tel[k]))\n",
    "\n",
    "del tel['sape']\n",
    "tel['irv'] = 4127\n",
    "print (tel)\n",
    "print (tel.keys())\n",
    "print ('guido' in tel)\n",
    "\n",
    "# Loop in another way\n",
    "for (k,v) in tel.items():\n",
    "    print ('Key \"%s\" has value \"%d\".' % (k,v))\n",
    "\n",
    "# The dict() constructor builds dictionaries directly from sequences of key-value pairs:\n",
    "T = dict([('sape', 4139), ('guido', 4127), ('jack', 4098)])\n",
    "print (T)\n",
    "\n",
    "# Nested dictionary\n",
    "ratings = {'Alice':{'chocolate':2.5, 'strawberry':4, 'vanilla':4.5},\n",
    "           'Bob':{'chocolate':5.0, 'strawberry':3.5, 'vanilla':1.5},\n",
    "           'Cal':{'chocolate':4.0, 'strawberry':4.5, 'vanilla':4.0}}\n",
    "print (ratings)\n",
    "print (ratings['Cal'])\n",
    "print (ratings['Alice']['vanilla'])\n",
    "\n",
    "# Switch user and item in ratings\n",
    "ratingsSwitched = {}\n",
    "for name in ratings:\n",
    "    for item in ratings[name]:\n",
    "        ratingsSwitched.setdefault(item, {})\n",
    "        ratingsSwitched[item][name] = ratings[name][item]\n",
    "        \n",
    "print (ratingsSwitched)"
   ]
  }
 ],
 "metadata": {
  "kernelspec": {
   "display_name": "Python 3",
   "language": "python",
   "name": "python3"
  },
  "language_info": {
   "codemirror_mode": {
    "name": "ipython",
    "version": 3
   },
   "file_extension": ".py",
   "mimetype": "text/x-python",
   "name": "python",
   "nbconvert_exporter": "python",
   "pygments_lexer": "ipython3",
   "version": "3.6.8"
  }
 },
 "nbformat": 4,
 "nbformat_minor": 2
}
